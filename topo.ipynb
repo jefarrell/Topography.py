{
 "cells": [
  {
   "cell_type": "code",
   "execution_count": 1,
   "metadata": {
    "collapsed": true
   },
   "outputs": [],
   "source": [
    "import numpy as np\n",
    "import sys\n",
    "# I needed this for OpenCV to load, you may not\n",
    "sys.path.append('/usr/local/lib/python2.7/site-packages/')\n",
    "import cv2"
   ]
  },
  {
   "cell_type": "code",
   "execution_count": 2,
   "metadata": {
    "collapsed": false
   },
   "outputs": [],
   "source": [
    "# Load an image\n",
    "img = cv2.imread('clouds.jpg')"
   ]
  },
  {
   "cell_type": "code",
   "execution_count": 3,
   "metadata": {
    "collapsed": false
   },
   "outputs": [],
   "source": [
    "# Show it, confirm we're good\n",
    "cv2.imshow('image', img)\n",
    "cv2.waitKey(0)\n",
    "cv2.destroyAllWindows()"
   ]
  },
  {
   "cell_type": "code",
   "execution_count": 4,
   "metadata": {
    "collapsed": false
   },
   "outputs": [],
   "source": [
    "# Set it to gray scale, show it to see\n",
    "grayed = cv2.cvtColor(img, cv2.COLOR_BGR2GRAY)\n",
    "cv2.imshow('grayed', grayed)\n",
    "cv2.waitKey(0)\n",
    "cv2.destroyAllWindows()"
   ]
  },
  {
   "cell_type": "code",
   "execution_count": 5,
   "metadata": {
    "collapsed": true
   },
   "outputs": [],
   "source": [
    "# Apply a Gaussian Blur, again show it to see\n",
    "blurred = cv2.GaussianBlur(grayed, (51,51), 0)\n",
    "cv2.imshow('blurred', blurred)\n",
    "cv2.waitKey(0)\n",
    "cv2.destroyAllWindows()"
   ]
  },
  {
   "cell_type": "code",
   "execution_count": 6,
   "metadata": {
    "collapsed": true
   },
   "outputs": [],
   "source": [
    "# Function to posterize the image\n",
    "# Takes an image, and number of color levels to use\n",
    "def posterize(image, level):\n",
    "    indices = np.arange(0,256);\n",
    "    divider = np.linspace(0,255,level+1)[1]\n",
    "    quantiz = np.int0(np.linspace(0,255,level))\n",
    "    color_levels = np.clip(np.int0(indices/divider),0,level-1)\n",
    "    palette = quantiz[color_levels]\n",
    "    img2 = palette[image]\n",
    "    img2 = cv2.convertScaleAbs(img2)\n",
    "    return img2"
   ]
  },
  {
   "cell_type": "code",
   "execution_count": 7,
   "metadata": {
    "collapsed": false
   },
   "outputs": [],
   "source": [
    "# Run the posterize function (I have found 6 levels works well) and check the output\n",
    "poster = posterize(blurred,6)\n",
    "cv2.imshow('poster', poster)\n",
    "cv2.waitKey(0)\n",
    "cv2.destroyAllWindows()"
   ]
  },
  {
   "cell_type": "code",
   "execution_count": 8,
   "metadata": {
    "collapsed": true
   },
   "outputs": [],
   "source": [
    "# Function for automatic tuning of Canny edge detection\n",
    "def auto_canny(image, sigma=0.33):\n",
    "    v = np.median(image)\n",
    "    lower = int(max(0, (1.0-sigma)*v))\n",
    "    upper = int(min(255, (1.0+sigma)*v))\n",
    "    edged = cv2.Canny(image,lower,upper)\n",
    "    return edged"
   ]
  },
  {
   "cell_type": "code",
   "execution_count": 9,
   "metadata": {
    "collapsed": false
   },
   "outputs": [],
   "source": [
    "# Run Canny Edge detection with two parameters and OpenCV's Canny function\n",
    "# Also run a version with the auto_canny function\n",
    "wide = cv2.Canny(poster,10,200)\n",
    "tight = cv2.Canny(poster,255,250)\n",
    "auto = auto_canny(poster)"
   ]
  },
  {
   "cell_type": "code",
   "execution_count": 10,
   "metadata": {
    "collapsed": false
   },
   "outputs": [],
   "source": [
    "# Check the output, a nice topographic pattern\n",
    "cv2.imshow(\"Auto\",auto)\n",
    "cv2.waitKey(0)\n",
    "cv2.destroyAllWindows()"
   ]
  }
 ],
 "metadata": {
  "kernelspec": {
   "display_name": "Python 2",
   "language": "python",
   "name": "python2"
  },
  "language_info": {
   "codemirror_mode": {
    "name": "ipython",
    "version": 2
   },
   "file_extension": ".py",
   "mimetype": "text/x-python",
   "name": "python",
   "nbconvert_exporter": "python",
   "pygments_lexer": "ipython2",
   "version": "2.7.10"
  }
 },
 "nbformat": 4,
 "nbformat_minor": 0
}
