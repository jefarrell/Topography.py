{
 "cells": [
  {
   "cell_type": "code",
   "execution_count": 1,
   "metadata": {
    "collapsed": true
   },
   "outputs": [],
   "source": [
    "import numpy as np\n",
    "import matplotlib.pyplot as plt\n",
    "from scipy import ndimage as ndi\n",
    "from skimage import feature\n",
    "\n",
    "import sys\n",
    "sys.path.append('/usr/local/lib/python2.7/site-packages/')\n",
    "import cv2"
   ]
  },
  {
   "cell_type": "code",
   "execution_count": 13,
   "metadata": {
    "collapsed": true
   },
   "outputs": [],
   "source": []
  },
  {
   "cell_type": "code",
   "execution_count": 94,
   "metadata": {
    "collapsed": false
   },
   "outputs": [],
   "source": [
    "img = cv2.imread('clouds.jpg')"
   ]
  },
  {
   "cell_type": "code",
   "execution_count": 95,
   "metadata": {
    "collapsed": false
   },
   "outputs": [],
   "source": [
    "cv2.imshow('image', img)\n",
    "cv2.waitKey(0)\n",
    "cv2.destroyAllWindows()"
   ]
  },
  {
   "cell_type": "code",
   "execution_count": 97,
   "metadata": {
    "collapsed": false
   },
   "outputs": [],
   "source": [
    "grayed = cv2.cvtColor(img, cv2.COLOR_BGR2GRAY)\n",
    "cv2.imshow('grayed', grayed)\n",
    "cv2.waitKey(0)\n",
    "cv2.destroyAllWindows()"
   ]
  },
  {
   "cell_type": "code",
   "execution_count": 98,
   "metadata": {
    "collapsed": true
   },
   "outputs": [],
   "source": [
    "blurred = cv2.GaussianBlur(grayed, (51,51), 0)\n",
    "cv2.imshow('blurred', blurred)\n",
    "cv2.waitKey(0)\n",
    "cv2.destroyAllWindows()"
   ]
  },
  {
   "cell_type": "code",
   "execution_count": 101,
   "metadata": {
    "collapsed": true
   },
   "outputs": [],
   "source": [
    "def posterize(image, level):\n",
    "    indices = np.arange(0,256);\n",
    "    divider = np.linspace(0,255,level+1)[1]\n",
    "    quantiz = np.int0(np.linspace(0,255,level))\n",
    "    color_levels = np.clip(np.int0(indices/divider),0,level-1)\n",
    "    palette = quantiz[color_levels]\n",
    "    img2 = palette[image]\n",
    "    img2 = cv2.convertScaleAbs(im2)\n",
    "    cv2.imshow('poster', img2)\n",
    "    cv2.waitKey(0)\n",
    "    cv2.destroyAllWindows()\n",
    "    return img2"
   ]
  },
  {
   "cell_type": "code",
   "execution_count": 102,
   "metadata": {
    "collapsed": false
   },
   "outputs": [
    {
     "data": {
      "text/plain": [
       "array([[102, 102, 102, ...,  51,  51,  51],\n",
       "       [102, 102, 102, ...,  51,  51,  51],\n",
       "       [102, 102, 102, ...,  51,  51,  51],\n",
       "       ..., \n",
       "       [153, 153, 153, ...,   0,   0,   0],\n",
       "       [153, 153, 153, ...,  51,  51,  51],\n",
       "       [153, 153, 153, ...,  51,  51,  51]], dtype=uint8)"
      ]
     },
     "execution_count": 102,
     "metadata": {},
     "output_type": "execute_result"
    }
   ],
   "source": [
    "posterize(blurred,6);\n",
    "# cv2.imshow('poster', poster)\n",
    "# cv2.waitKey(0)\n",
    "# cv2.destroyAllWindows()"
   ]
  },
  {
   "cell_type": "code",
   "execution_count": 64,
   "metadata": {
    "collapsed": true
   },
   "outputs": [],
   "source": [
    "def auto_canny(image, sigma=0.33):\n",
    "    v = np.median(image)\n",
    "    lower = int(max(0, (1.0-sigma)*v))\n",
    "    upper = int(min(255, (1.0+sigma)*v))\n",
    "    edged = cv2.Canny(image,lower,upper)\n",
    "    return edged"
   ]
  },
  {
   "cell_type": "code",
   "execution_count": 103,
   "metadata": {
    "collapsed": false
   },
   "outputs": [],
   "source": [
    "wide = cv2.Canny(poster,10,200)\n",
    "tight = cv2.Canny(poster,255,250)\n",
    "auto = auto_canny(poster)"
   ]
  },
  {
   "cell_type": "code",
   "execution_count": 104,
   "metadata": {
    "collapsed": false
   },
   "outputs": [],
   "source": [
    "cv2.imshow(\"Original\",auto)\n",
    "cv2.waitKey(0)\n",
    "cv2.destroyAllWindows()"
   ]
  },
  {
   "cell_type": "code",
   "execution_count": 141,
   "metadata": {
    "collapsed": false
   },
   "outputs": [],
   "source": [
    "# blurred[blurred < 85]=255\n",
    "# blurred[blurred > 85 and blurred <170]=127\n",
    "# blurred[blurred > 171 and blurred <=255]=0\n",
    "# cv2.imshow(\"blah\",blurred)\n",
    "blurred[blurred>=128]=255\n",
    "blurred[blurred<128] = 0\n",
    "cv2.imshow(\"npmy\", blurred)"
   ]
  },
  {
   "cell_type": "code",
   "execution_count": null,
   "metadata": {
    "collapsed": true
   },
   "outputs": [],
   "source": []
  }
 ],
 "metadata": {
  "kernelspec": {
   "display_name": "Python 2",
   "language": "python",
   "name": "python2"
  },
  "language_info": {
   "codemirror_mode": {
    "name": "ipython",
    "version": 2
   },
   "file_extension": ".py",
   "mimetype": "text/x-python",
   "name": "python",
   "nbconvert_exporter": "python",
   "pygments_lexer": "ipython2",
   "version": "2.7.10"
  }
 },
 "nbformat": 4,
 "nbformat_minor": 0
}
